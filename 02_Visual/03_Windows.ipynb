{
 "cells": [
  {
   "cell_type": "code",
   "execution_count": null,
   "id": "d9f6a7bb-84e0-426d-b866-b34f8ad0f0c0",
   "metadata": {},
   "outputs": [],
   "source": [
    "from pyspark.sql import SparkSession\n",
    "import pyspark.sql.functions as F\n",
    "\n",
    "spark = (SparkSession.builder\n",
    "         .config(\"spark.jars.packages\", \"org.elasticsearch:elasticsearch-spark-30_2.12:8.3.3\")\n",
    "         .getOrCreate()\n",
    "        )\n",
    "\n",
    "schema = (spark.read\n",
    "             .parquet(\"output/kafka_0.parquet/*.parquet\")\n",
    "            ).schema\n",
    "\n",
    "kafka_df = (spark.readStream\n",
    "     .format(\"parquet\")\n",
    "     .schema(schema)\n",
    "     .option(\"path\", \"output/kafka_0.parquet/*.parquet\")\n",
    "     .load()\n",
    ")\n"
   ]
  },
  {
   "cell_type": "code",
   "execution_count": null,
   "id": "af445140-14cb-42fd-afe1-b40184a7d5ca",
   "metadata": {},
   "outputs": [],
   "source": [
    "json_schema = \"\"\"\n",
    "STRUCT<location: STRUCT<street: STRUCT<number: INT,\n",
    "                                name: STRING>,\n",
    "    city: STRING,\n",
    "    state: STRING,\n",
    "    country: STRING,\n",
    "    postcode: INT,\n",
    "    coordinates: STRUCT<latitude: STRING,\n",
    "                        longitude: STRING>,\n",
    "    timezone: STRUCT<offset: STRING,\n",
    "                    description: STRING>\n",
    "                >\n",
    ">\n",
    "                \"\"\"\n"
   ]
  },
  {
   "cell_type": "code",
   "execution_count": null,
   "id": "ef14262f-5e2b-440a-a6c8-dd1dc32f2233",
   "metadata": {},
   "outputs": [],
   "source": [
    "kafka_df = (kafka_df\n",
    "    .select(F.from_json(F.col(\"value\").cast(\"string\"), json_schema).alias(\"json\"),\n",
    "            F.col(\"timestamp\").alias(\"ts\"))\n",
    "    .select(\"ts\",\"json.location.state\")\n",
    "    .withWatermark(\"ts\", \"15 second\")\n",
    "    .groupBy(\"state\",F.window(\"ts\",\"10 second\"))\n",
    "    .count()\n",
    "    .select(\"state\", \"window.start\", \"window.end\", \"count\")\n",
    ")"
   ]
  },
  {
   "cell_type": "code",
   "execution_count": null,
   "id": "a11bcb11-3557-4853-a533-63195a16377e",
   "metadata": {},
   "outputs": [],
   "source": [
    "kafka_df.printSchema()"
   ]
  },
  {
   "cell_type": "code",
   "execution_count": null,
   "id": "f337d33b-63d8-40bf-9c68-00777ba33a0d",
   "metadata": {},
   "outputs": [],
   "source": [
    "(kafka_df.writeStream \n",
    "    .outputMode(\"append\") \n",
    "    .format(\"org.elasticsearch.spark.sql\") \n",
    "    .option(\"checkpointLocation\", \"checkpoints/elastic_window\") \n",
    "    .option(\"es.resource\", \"kafka_window\") \n",
    "    .option(\"es.nodes\", \"elasticsearch\") \n",
    "    .start()\n",
    "    .awaitTermination()\n",
    ")"
   ]
  }
 ],
 "metadata": {
  "kernelspec": {
   "display_name": "Python 3.9.13 64-bit (windows store)",
   "language": "python",
   "name": "python3"
  },
  "language_info": {
   "codemirror_mode": {
    "name": "ipython",
    "version": 3
   },
   "file_extension": ".py",
   "mimetype": "text/x-python",
   "name": "python",
   "nbconvert_exporter": "python",
   "pygments_lexer": "ipython3",
   "version": "3.9.13"
  },
  "vscode": {
   "interpreter": {
    "hash": "86a545e9c7c8a04a9f5ab582097b4968329114428a3fde0cf520c5aeef29910b"
   }
  }
 },
 "nbformat": 4,
 "nbformat_minor": 5
}
