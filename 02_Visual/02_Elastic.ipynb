{
 "cells": [
  {
   "cell_type": "code",
   "execution_count": 2,
   "id": "8ca48ce6-2bdc-474a-a548-4fa5fdc43580",
   "metadata": {},
   "outputs": [],
   "source": [
    "from pyspark.sql import SparkSession\n",
    "\n",
    "spark = (SparkSession.builder\n",
    "         .config(\"spark.jars.packages\", \"org.elasticsearch:elasticsearch-spark-30_2.12:8.3.3\")\n",
    "         .getOrCreate()\n",
    "        )\n"
   ]
  },
  {
   "cell_type": "code",
   "execution_count": null,
   "id": "75cb128b-e08c-4a39-b052-f8a8f0eb8a4b",
   "metadata": {},
   "outputs": [],
   "source": [
    "schema_df = (spark.read\n",
    "             .parquet(\"output/kafka_0.parquet/*.parquet\")\n",
    "            )"
   ]
  },
  {
   "cell_type": "code",
   "execution_count": 6,
   "id": "b3961d24-107a-48b6-8257-8f08bda46dbc",
   "metadata": {},
   "outputs": [
    {
     "data": {
      "text/plain": [
       "StructType([StructField('key', BinaryType(), True), StructField('value', BinaryType(), True), StructField('topic', StringType(), True), StructField('partition', IntegerType(), True), StructField('offset', LongType(), True), StructField('timestamp', TimestampType(), True), StructField('timestampType', IntegerType(), True)])"
      ]
     },
     "execution_count": 6,
     "metadata": {},
     "output_type": "execute_result"
    }
   ],
   "source": [
    "schema_df.schema"
   ]
  },
  {
   "cell_type": "code",
   "execution_count": null,
   "id": "716117d8-9c73-4ba6-8992-aed96f5dd5dd",
   "metadata": {},
   "outputs": [],
   "source": [
    "kafka_df = (spark.readStream\n",
    "     .format(\"parquet\")\n",
    "     .schema(schema_df.schema)\n",
    "     .option(\"path\", \"output/kafka_0.parquet/*.parquet\")\n",
    "     .load()\n",
    ")\n"
   ]
  },
  {
   "cell_type": "code",
   "execution_count": null,
   "id": "82710e67",
   "metadata": {},
   "outputs": [],
   "source": [
    "json_schema = \"\"\"\n",
    "STRUCT<gender: STRING,\n",
    "name: STRUCT<title: STRING,\n",
    "            first: STRING,\n",
    "            last: STRING>,\n",
    "location: STRUCT<street: STRUCT<number: INT,\n",
    "                                name: STRING>,\n",
    "                 city: STRING,\n",
    "                state: STRING,\n",
    "                country: STRING,\n",
    "                postcode: INT,\n",
    "                coordinates: STRUCT<latitude: STRING,\n",
    "                                    longitude: STRING>,\n",
    "                timezone: STRUCT<offset: STRING,\n",
    "                                description: STRING>\n",
    "                >,\n",
    "email: STRING,\n",
    "login: STRUCT< uuid: STRING,\n",
    "            username: STRING,\n",
    "            password: STRING,\n",
    "            salt: STRING,\n",
    "            md5: STRING,\n",
    "            sha1: STRING,\n",
    "            sha256: STRING>,\n",
    "dob: STRUCT<date: STRING,\n",
    "            age: INT>,\n",
    "registered: STRUCT<date: STRING,\n",
    "                    age: INT>,\n",
    "phone: STRING,\n",
    "cell: STRING,\n",
    "id: STRUCT<name: STRING,\n",
    "            value: STRING>,\n",
    "picture: STRUCT<large: STRING,\n",
    "                medium: STRING,\n",
    "                thumbnail: STRING>,\n",
    "nat: STRING,\n",
    "timestamp: STRING>\n",
    "\"\"\""
   ]
  },
  {
   "cell_type": "code",
   "execution_count": null,
   "id": "79817896",
   "metadata": {},
   "outputs": [],
   "source": [
    "import pyspark.sql.functions as F\n",
    "\n",
    "\n",
    "\n",
    "kafka_df = (kafka_df\n",
    "    .select(F.from_json(F.col(\"value\").cast(\"string\"), json_schema).alias(\"json\"),\n",
    "            F.col(\"timestamp\").alias(\"ts\"))\n",
    ")"
   ]
  },
  {
   "cell_type": "code",
   "execution_count": null,
   "id": "96b9dd26-b3b7-4de7-bba5-2b172b1e8c88",
   "metadata": {},
   "outputs": [],
   "source": [
    "(kafka_df.writeStream \n",
    "    .outputMode(\"append\") \n",
    "    .format(\"org.elasticsearch.spark.sql\") \n",
    "    .option(\"checkpointLocation\", \"checkpoints/elastic\") \n",
    "    .option(\"es.resource\", \"kafka_01\") \n",
    "    .option(\"es.nodes\", \"elasticsearch\") \n",
    "    .start()\n",
    "    .awaitTermination()\n",
    ")"
   ]
  }
 ],
 "metadata": {
  "kernelspec": {
   "display_name": "Python 3 (ipykernel)",
   "language": "python",
   "name": "python3"
  },
  "language_info": {
   "codemirror_mode": {
    "name": "ipython",
    "version": 3
   },
   "file_extension": ".py",
   "mimetype": "text/x-python",
   "name": "python",
   "nbconvert_exporter": "python",
   "pygments_lexer": "ipython3",
   "version": "3.9.13"
  },
  "vscode": {
   "interpreter": {
    "hash": "86a545e9c7c8a04a9f5ab582097b4968329114428a3fde0cf520c5aeef29910b"
   }
  }
 },
 "nbformat": 4,
 "nbformat_minor": 5
}
