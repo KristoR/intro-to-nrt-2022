{
 "cells": [
  {
   "cell_type": "code",
   "execution_count": 1,
   "id": "4d9faeb2-7134-4558-85bd-adfc1e50de2a",
   "metadata": {},
   "outputs": [],
   "source": [
    "from pyspark.sql import SparkSession\n",
    "\n",
    "spark = (SparkSession.builder.getOrCreate())"
   ]
  },
  {
   "cell_type": "code",
   "execution_count": 4,
   "id": "8cde55d5-b089-432d-9226-ba31110feb64",
   "metadata": {},
   "outputs": [
    {
     "name": "stdout",
     "output_type": "stream",
     "text": [
      "+-------------------+--------------------+-----+---------+------+--------------------+-------------+\n",
      "|                key|               value|topic|partition|offset|           timestamp|timestampType|\n",
      "+-------------------+--------------------+-----+---------+------+--------------------+-------------+\n",
      "|[66 65 6D 61 6C 65]|[7B 27 67 65 6E 6...|   US|        0|    29|2022-08-02 21:34:...|            0|\n",
      "|      [6D 61 6C 65]|[7B 27 67 65 6E 6...|   US|        0|    28|2022-08-02 21:34:...|            0|\n",
      "|      [6D 61 6C 65]|[7B 27 67 65 6E 6...|   US|        0|    30|2022-08-02 21:34:...|            0|\n",
      "|[66 65 6D 61 6C 65]|[7B 27 67 65 6E 6...|   US|        0|    24|2022-08-02 21:34:...|            0|\n",
      "|      [6D 61 6C 65]|[7B 27 67 65 6E 6...|   US|        0|    25|2022-08-02 21:34:...|            0|\n",
      "|[66 65 6D 61 6C 65]|[7B 27 67 65 6E 6...|   US|        0|    26|2022-08-02 21:34:...|            0|\n",
      "|      [6D 61 6C 65]|[7B 27 67 65 6E 6...|   US|        0|    27|2022-08-02 21:34:...|            0|\n",
      "|[66 65 6D 61 6C 65]|[7B 27 67 65 6E 6...|   US|        0|    22|2022-08-02 21:14:...|            0|\n",
      "|[66 65 6D 61 6C 65]|[7B 27 67 65 6E 6...|   US|        0|    23|2022-08-02 21:14:...|            0|\n",
      "|[66 65 6D 61 6C 65]|[7B 27 67 65 6E 6...|   US|        0|    21|2022-08-02 21:06:...|            0|\n",
      "|      [6D 61 6C 65]|[7B 27 67 65 6E 6...|   US|        0|    19|2022-08-02 21:06:...|            0|\n",
      "|[66 65 6D 61 6C 65]|[7B 27 67 65 6E 6...|   US|        0|    20|2022-08-02 21:06:...|            0|\n",
      "|      [6D 61 6C 65]|[7B 27 67 65 6E 6...|   US|        0|    18|2022-08-02 21:06:...|            0|\n",
      "|[66 65 6D 61 6C 65]|[7B 27 67 65 6E 6...|   US|        0|    15|2022-08-02 21:06:...|            0|\n",
      "|[66 65 6D 61 6C 65]|[7B 27 67 65 6E 6...|   US|        0|    17|2022-08-02 21:06:...|            0|\n",
      "|[66 65 6D 61 6C 65]|[7B 27 67 65 6E 6...|   US|        0|    14|2022-08-02 21:06:...|            0|\n",
      "|      [6D 61 6C 65]|[7B 27 67 65 6E 6...|   US|        0|    16|2022-08-02 21:06:...|            0|\n",
      "|[66 65 6D 61 6C 65]|[7B 27 67 65 6E 6...|   US|        0|    12|2022-08-02 20:59:...|            0|\n",
      "|      [6D 61 6C 65]|[7B 27 67 65 6E 6...|   US|        0|    13|2022-08-02 20:59:...|            0|\n",
      "|[66 65 6D 61 6C 65]|[7B 27 67 65 6E 6...|   US|        0|    10|2022-08-02 20:59:...|            0|\n",
      "+-------------------+--------------------+-----+---------+------+--------------------+-------------+\n",
      "only showing top 20 rows\n",
      "\n"
     ]
    }
   ],
   "source": [
    "import pyspark.sql.functions as F\n",
    "\n",
    "spark.read.parquet(\"output/kafka_0.parquet\").orderBy(F.desc(\"timestamp\")).show()\n",
    "\n",
    "#key - partitioning key\n",
    "#value - the data, in binary format. This is our JSON payload. We'll need to cast it to STRING.\n",
    "#topic - the topic we are subscribing to\n",
    "#partition \n",
    "#offset - the offset value. This is per topic, partition, and consumer group\n",
    "#timestamp - the timestamp\n",
    "#timestampType - whether timestamp is created time or log append time (by default created time)"
   ]
  },
  {
   "cell_type": "code",
   "execution_count": 87,
   "id": "a89ff8be-ceba-4813-a649-ce7de9485afd",
   "metadata": {},
   "outputs": [],
   "source": [
    "spark.read.parquet(\"output/kafka_0.parquet/*.parquet\").createOrReplaceTempView(\"vw_kafka_0\")"
   ]
  },
  {
   "cell_type": "code",
   "execution_count": 88,
   "id": "cd724b78-179b-4213-80bf-2cfc460bc5d6",
   "metadata": {},
   "outputs": [
    {
     "name": "stdout",
     "output_type": "stream",
     "text": [
      "+-------------------+--------------------+-----+---------+------+--------------------+-------------+\n",
      "|                key|               value|topic|partition|offset|           timestamp|timestampType|\n",
      "+-------------------+--------------------+-----+---------+------+--------------------+-------------+\n",
      "|[66 65 6D 61 6C 65]|[7B 27 67 65 6E 6...|   US|        0|    53|2022-08-02 22:09:...|            0|\n",
      "|[66 65 6D 61 6C 65]|[7B 27 67 65 6E 6...|   US|        0|    52|2022-08-02 22:09:...|            0|\n",
      "|[66 65 6D 61 6C 65]|[7B 27 67 65 6E 6...|   US|        0|    51|2022-08-02 22:09:...|            0|\n",
      "|      [6D 61 6C 65]|[7B 27 67 65 6E 6...|   US|        0|    50|2022-08-02 22:09:...|            0|\n",
      "|[66 65 6D 61 6C 65]|[7B 27 67 65 6E 6...|   US|        0|    49|2022-08-02 22:09:...|            0|\n",
      "|[66 65 6D 61 6C 65]|[7B 27 67 65 6E 6...|   US|        0|    48|2022-08-02 22:09:...|            0|\n",
      "|[66 65 6D 61 6C 65]|[7B 27 67 65 6E 6...|   US|        0|    47|2022-08-02 22:08:...|            0|\n",
      "|[66 65 6D 61 6C 65]|[7B 27 67 65 6E 6...|   US|        0|    46|2022-08-02 22:08:...|            0|\n",
      "|[66 65 6D 61 6C 65]|[7B 27 67 65 6E 6...|   US|        0|    45|2022-08-02 22:08:...|            0|\n",
      "|[66 65 6D 61 6C 65]|[7B 27 67 65 6E 6...|   US|        0|    44|2022-08-02 22:08:...|            0|\n",
      "|[66 65 6D 61 6C 65]|[7B 27 67 65 6E 6...|   US|        0|    43|2022-08-02 22:08:...|            0|\n",
      "|[66 65 6D 61 6C 65]|[7B 27 67 65 6E 6...|   US|        0|    42|2022-08-02 22:07:...|            0|\n",
      "|      [6D 61 6C 65]|[7B 27 67 65 6E 6...|   US|        0|    41|2022-08-02 22:07:...|            0|\n",
      "|      [6D 61 6C 65]|[7B 27 67 65 6E 6...|   US|        0|    40|2022-08-02 22:07:...|            0|\n",
      "|      [6D 61 6C 65]|[7B 27 67 65 6E 6...|   US|        0|    39|2022-08-02 22:07:...|            0|\n",
      "|[66 65 6D 61 6C 65]|[7B 27 67 65 6E 6...|   US|        0|    38|2022-08-02 22:07:...|            0|\n",
      "|[66 65 6D 61 6C 65]|[7B 27 67 65 6E 6...|   US|        0|    37|2022-08-02 22:06:...|            0|\n",
      "|      [6D 61 6C 65]|[7B 27 67 65 6E 6...|   US|        0|    36|2022-08-02 22:06:...|            0|\n",
      "|[66 65 6D 61 6C 65]|[7B 27 67 65 6E 6...|   US|        0|    35|2022-08-02 22:06:...|            0|\n",
      "|[66 65 6D 61 6C 65]|[7B 27 67 65 6E 6...|   US|        0|    34|2022-08-02 22:06:...|            0|\n",
      "+-------------------+--------------------+-----+---------+------+--------------------+-------------+\n",
      "only showing top 20 rows\n",
      "\n"
     ]
    }
   ],
   "source": [
    "spark.sql(\"SELECT * FROM vw_kafka_0 ORDER BY offset desc\").show()"
   ]
  },
  {
   "cell_type": "code",
   "execution_count": 9,
   "id": "e900fe09-d195-4734-9709-d42f426d30fc",
   "metadata": {},
   "outputs": [
    {
     "name": "stdout",
     "output_type": "stream",
     "text": [
      "+------+--------------------------------------------------+-----------------------+\n",
      "|   key|                                             value|                     ts|\n",
      "+------+--------------------------------------------------+-----------------------+\n",
      "|female|{'gender': 'female', 'name': {'title': 'Miss', ...|2022-08-02 21:34:11.319|\n",
      "|  male|{'gender': 'male', 'name': {'title': 'Mr', 'fir...|2022-08-02 21:34:11.319|\n",
      "|female|{'gender': 'female', 'name': {'title': 'Ms', 'f...|2022-08-02 21:34:11.319|\n",
      "|  male|{'gender': 'male', 'name': {'title': 'Mr', 'fir...|2022-08-02 21:34:11.319|\n",
      "|  male|{'gender': 'male', 'name': {'title': 'Mr', 'fir...| 2022-08-02 21:34:11.32|\n",
      "|female|{'gender': 'female', 'name': {'title': 'Miss', ...| 2022-08-02 21:34:11.32|\n",
      "|  male|{'gender': 'male', 'name': {'title': 'Mr', 'fir...| 2022-08-02 21:34:11.32|\n",
      "|female|{'gender': 'female', 'name': {'title': 'Miss', ...|2022-08-02 21:06:29.574|\n",
      "|female|{'gender': 'female', 'name': {'title': 'Miss', ...|2022-08-02 21:06:29.574|\n",
      "|  male|{'gender': 'male', 'name': {'title': 'Mr', 'fir...|2022-08-02 21:06:29.574|\n",
      "|female|{'gender': 'female', 'name': {'title': 'Miss', ...|2022-08-02 21:06:29.574|\n",
      "|  male|{'gender': 'male', 'name': {'title': 'Mr', 'fir...|2022-08-02 21:06:29.575|\n",
      "|female|{'gender': 'female', 'name': {'title': 'Ms', 'f...|2022-08-02 20:59:04.765|\n",
      "|  male|{'gender': 'male', 'name': {'title': 'Mr', 'fir...|2022-08-02 20:59:04.765|\n",
      "|female|{'gender': 'female', 'name': {'title': 'Miss', ...|2022-08-02 20:59:04.766|\n",
      "|  male|{'gender': 'male', 'name': {'title': 'Mr', 'fir...|2022-08-02 20:59:04.766|\n",
      "|  male|{'gender': 'male', 'name': {'title': 'Mr', 'fir...|2022-08-02 21:06:37.567|\n",
      "|female|{'gender': 'female', 'name': {'title': 'Ms', 'f...|2022-08-02 21:06:37.567|\n",
      "|female|{'gender': 'female', 'name': {'title': 'Miss', ...|2022-08-02 21:06:37.567|\n",
      "|female|{'gender': 'female', 'name': {'title': 'Mrs', '...|2022-08-02 21:14:49.147|\n",
      "+------+--------------------------------------------------+-----------------------+\n",
      "only showing top 20 rows\n",
      "\n"
     ]
    }
   ],
   "source": [
    "spark.sql(\"SELECT CAST(key AS STRING) key, CAST(value AS STRING) value, timestamp AS ts FROM vw_kafka_0\").show(20, 50)"
   ]
  },
  {
   "cell_type": "code",
   "execution_count": 50,
   "id": "337e8ec5-ff57-479d-b73b-212f8f2b1b7c",
   "metadata": {},
   "outputs": [],
   "source": [
    "json_schema = \"\"\"\n",
    "STRUCT<gender: STRING,\n",
    "name: STRUCT<title: STRING,\n",
    "            first: STRING,\n",
    "            last: STRING>,\n",
    "location: STRUCT<street: STRUCT<number: INT,\n",
    "                                name: STRING>,\n",
    "                 city: STRING,\n",
    "                state: STRING,\n",
    "                country: STRING,\n",
    "                postcode: INT,\n",
    "                coordinates: STRUCT<latitude: STRING,\n",
    "                                    longitude: STRING>,\n",
    "                timezone: STRUCT<offset: STRING,\n",
    "                                description: STRING>\n",
    "                >,\n",
    "email: STRING,\n",
    "login: STRUCT< uuid: STRING,\n",
    "            username: STRING,\n",
    "            password: STRING,\n",
    "            salt: STRING,\n",
    "            md5: STRING,\n",
    "            sha1: STRING,\n",
    "            sha256: STRING>,\n",
    "dob: STRUCT<date: STRING,\n",
    "            age: INT>,\n",
    "registered: STRUCT<date: STRING,\n",
    "                    age: INT>,\n",
    "phone: STRING,\n",
    "cell: STRING,\n",
    "id: STRUCT<name: STRING,\n",
    "            value: STRING>,\n",
    "picture: STRUCT<large: STRING,\n",
    "                medium: STRING,\n",
    "                thumbnail: STRING>,\n",
    "nat: STRING,\n",
    "timestamp: STRING>\n",
    "\"\"\""
   ]
  },
  {
   "cell_type": "code",
   "execution_count": 92,
   "id": "a00d259d-1261-44c4-89f2-210347d5f4a4",
   "metadata": {},
   "outputs": [
    {
     "name": "stdout",
     "output_type": "stream",
     "text": [
      "+--------------------+------+--------------------+--------------------+--------------------+--------------------+--------------------+--------------------+--------------+--------------+------------------+--------------------+---+---------+\n",
      "|                  ts|gender|                name|            location|               email|               login|                 dob|          registered|         phone|          cell|                id|             picture|nat|timestamp|\n",
      "+--------------------+------+--------------------+--------------------+--------------------+--------------------+--------------------+--------------------+--------------+--------------+------------------+--------------------+---+---------+\n",
      "|2022-08-02 22:06:...|  male|{Mr, Pedro, Stanley}|{{7978, Stevens C...|pedro.stanley@exa...|{188e6e47-d708-4b...|{1979-02-06T07:07...|{2019-03-14T18:40...|(245) 830-6507|(921) 267-8950|{SSN, 388-20-3483}|{https://randomus...| US|     null|\n",
      "|2022-08-02 22:06:...|female|{Ms, Abigail, Ham...|{{7143, Fairview ...|abigail.hamilton@...|{b5e08bd3-fc0b-4c...|{1989-06-01T13:58...|{2010-05-27T03:41...|(699) 405-2725|(686) 578-7359|{SSN, 716-89-8978}|{https://randomus...| US|     null|\n",
      "|2022-08-02 22:06:...|  male|{Mr, Jeremy, Snyder}|{{9306, Lovers Ln...|jeremy.snyder@exa...|{157d50c0-5b1b-44...|{1985-12-01T07:24...|{2005-01-18T07:33...|(673) 627-6501|(265) 420-3075|{SSN, 767-27-6450}|{https://randomus...| US|     null|\n",
      "|2022-08-02 22:06:...|female|  {Ms, Rosa, Bryant}|{{2377, Walnut Hi...|rosa.bryant@examp...|{f4184b39-8ea7-4b...|{1981-08-30T11:11...|{2017-10-20T00:47...|(316) 229-2201|(771) 471-0324|{SSN, 401-99-1680}|{https://randomus...| US|     null|\n",
      "|2022-08-02 22:06:...|female|{Mrs, Michelle, W...|{{34, Edwards Rd}...|michelle.willis@e...|{9ab297b4-fa1d-40...|{1984-08-18T17:31...|{2006-11-01T19:55...|(884) 269-7376|(318) 219-2759|{SSN, 423-80-2843}|{https://randomus...| US|     null|\n",
      "|2022-08-02 22:06:...|  male|{Mr, Chester, Han...|{{1684, Prospect ...|chester.hansen@ex...|{ac1c93f4-1308-44...|{1995-04-05T19:37...|{2009-03-09T14:03...|(522) 232-5705|(468) 781-4334|{SSN, 270-31-4058}|{https://randomus...| US|     null|\n",
      "|2022-08-02 22:06:...|female|{Miss, Kathryn, F...|{{6016, Blossom H...|kathryn.fleming@e...|{12bb25c2-0536-47...|{1969-12-28T21:57...|{2014-02-28T17:32...|(718) 327-5937|(999) 364-6428|{SSN, 416-95-8062}|{https://randomus...| US|     null|\n",
      "|2022-08-02 22:09:...|female|{Miss, Aubree, Webb}|{{9591, Depaul Dr...|aubree.webb@examp...|{1f35f21b-d78d-4f...|{1978-06-26T20:16...|{2007-07-17T01:57...|(875) 684-4232|(417) 479-9364|{SSN, 888-04-8173}|{https://randomus...| US|     null|\n",
      "|2022-08-02 22:09:...|female|{Miss, Ella, Rich...|{{983, Robinson R...|ella.richards@exa...|{352b4bee-697d-4d...|{1958-06-23T14:01...|{2010-05-22T16:34...|(297) 775-9534|(903) 424-9197|{SSN, 431-91-9208}|{https://randomus...| US|     null|\n",
      "|2022-08-02 22:09:...|  male| {Mr, Wade, Alvarez}|{{9611, W 6th St}...|wade.alvarez@exam...|{761f2f41-df27-48...|{1956-09-08T11:08...|{2011-12-07T23:51...|(606) 463-7387|(341) 454-0516|{SSN, 114-49-4198}|{https://randomus...| US|     null|\n",
      "|2022-08-02 22:09:...|female|{Mrs, Melinda, Ro...|{{7062, Ranchview...|melinda.robinson@...|{ea68323b-5f1d-44...|{1997-03-01T12:45...|{2009-04-23T18:15...|(591) 420-3733|(258) 811-4508|{SSN, 779-34-8520}|{https://randomus...| US|     null|\n",
      "|2022-08-02 22:09:...|female| {Ms, Julia, Hudson}|{{5616, Ranchview...|julia.hudson@exam...|{19dfaff1-06f4-41...|{1987-02-13T09:29...|{2004-03-27T05:33...|(909) 520-4428|(858) 343-6595|{SSN, 514-38-0773}|{https://randomus...| US|     null|\n",
      "|2022-08-02 22:09:...|female|  {Ms, Nellie, Cole}|{{1512, Lakeview ...|nellie.cole@examp...|{b3638971-deb0-4a...|{1951-08-09T00:17...|{2004-09-07T02:32...|(803) 832-6177|(248) 904-8977|{SSN, 029-10-9254}|{https://randomus...| US|     null|\n",
      "|2022-08-02 22:08:...|female|{Miss, Elizabeth,...|{{3546, Marsh Ln}...|elizabeth.webb@ex...|{b58e332b-456d-46...|{1990-06-28T06:00...|{2005-09-13T02:36...|(416) 780-4459|(937) 587-0671|{SSN, 043-20-8914}|{https://randomus...| US|     null|\n",
      "|2022-08-02 22:08:...|female|{Mrs, Norma, Graham}|{{2124, Cherry St...|norma.graham@exam...|{f9970c21-21fa-42...|{1959-11-24T11:02...|{2006-06-19T08:17...|(342) 371-2782|(250) 755-1949|{SSN, 894-90-4153}|{https://randomus...| US|     null|\n",
      "|2022-08-02 22:08:...|female| {Mrs, Tammy, Allen}|{{4846, Timber Wo...|tammy.allen@examp...|{db7643ff-731b-4d...|{1967-07-02T15:31...|{2021-06-19T08:24...|(798) 452-6463|(847) 656-4110|{SSN, 784-84-3036}|{https://randomus...| US|     null|\n",
      "|2022-08-02 22:08:...|female| {Mrs, Sofia, Adams}|{{3100, Frances C...|sofia.adams@examp...|{83732b13-be31-48...|{1970-04-03T19:52...|{2017-07-18T08:22...|(415) 296-0634|(945) 352-1467|{SSN, 030-21-6349}|{https://randomus...| US|     null|\n",
      "|2022-08-02 22:08:...|female|{Miss, Natalie, M...|{{4215, Hunters C...|natalie.medina@ex...|{852681d3-619e-40...|{1986-04-09T03:14...|{2011-08-29T10:05...|(656) 539-7747|(643) 265-0729|{SSN, 299-18-0033}|{https://randomus...| US|     null|\n",
      "|2022-08-02 22:07:...|female|{Mrs, Gertrude, K...|{{4088, Prospect ...|gertrude.kennedy@...|{75361b7d-7f71-4e...|{1970-03-23T15:20...|{2005-02-14T03:25...|(269) 242-7370|(671) 897-6828|{SSN, 648-75-9285}|{https://randomus...| US|     null|\n",
      "|2022-08-02 22:07:...|  male|{Mr, Charlie, Fra...|{{375, E Little Y...|charlie.franklin@...|{8779d816-cbdc-45...|{1995-06-07T00:24...|{2019-06-26T03:46...|(301) 958-3253|(612) 790-6916|{SSN, 634-74-2264}|{https://randomus...| US|     null|\n",
      "+--------------------+------+--------------------+--------------------+--------------------+--------------------+--------------------+--------------------+--------------+--------------+------------------+--------------------+---+---------+\n",
      "only showing top 20 rows\n",
      "\n"
     ]
    }
   ],
   "source": [
    "spark.sql(f\"\"\"\n",
    "SELECT ts, json.* FROM (\n",
    "SELECT FROM_JSON(CAST(value AS STRING),'{json_schema}') AS json,\n",
    "timestamp as ts\n",
    "FROM vw_kafka_0 \n",
    "WHERE offset > 30\n",
    ")\n",
    "\"\"\").show()"
   ]
  }
 ],
 "metadata": {
  "kernelspec": {
   "display_name": "Python 3.9.13 64-bit (windows store)",
   "language": "python",
   "name": "python3"
  },
  "language_info": {
   "codemirror_mode": {
    "name": "ipython",
    "version": 3
   },
   "file_extension": ".py",
   "mimetype": "text/x-python",
   "name": "python",
   "nbconvert_exporter": "python",
   "pygments_lexer": "ipython3",
   "version": "3.9.13"
  },
  "vscode": {
   "interpreter": {
    "hash": "86a545e9c7c8a04a9f5ab582097b4968329114428a3fde0cf520c5aeef29910b"
   }
  }
 },
 "nbformat": 4,
 "nbformat_minor": 5
}
