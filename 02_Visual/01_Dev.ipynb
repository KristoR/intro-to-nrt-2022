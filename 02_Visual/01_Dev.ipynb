{
 "cells": [
  {
   "cell_type": "code",
   "execution_count": 1,
   "id": "4d9faeb2-7134-4558-85bd-adfc1e50de2a",
   "metadata": {},
   "outputs": [],
   "source": [
    "from pyspark.sql import SparkSession\n",
    "\n",
    "spark = (SparkSession.builder.getOrCreate())"
   ]
  },
  {
   "cell_type": "code",
   "execution_count": 6,
   "id": "8cde55d5-b089-432d-9226-ba31110feb64",
   "metadata": {},
   "outputs": [
    {
     "name": "stdout",
     "output_type": "stream",
     "text": [
      "+-------------------+----------------------------------------+-----+---------+------+-----------------------+-------------+\n",
      "|                key|                                   value|topic|partition|offset|              timestamp|timestampType|\n",
      "+-------------------+----------------------------------------+-----+---------+------+-----------------------+-------------+\n",
      "|      [6D 61 6C 65]|[7B 27 67 65 6E 64 65 72 27 3A 20 27 ...|   US|        0|    59|2022-08-03 08:31:02.377|            0|\n",
      "|      [6D 61 6C 65]|[7B 27 67 65 6E 64 65 72 27 3A 20 27 ...|   US|        0|    61|2022-08-03 08:31:02.377|            0|\n",
      "|[66 65 6D 61 6C 65]|[7B 27 67 65 6E 64 65 72 27 3A 20 27 ...|   US|        0|    65|2022-08-03 08:31:02.377|            0|\n",
      "|[66 65 6D 61 6C 65]|[7B 27 67 65 6E 64 65 72 27 3A 20 27 ...|   US|        0|    62|2022-08-03 08:31:02.377|            0|\n",
      "|      [6D 61 6C 65]|[7B 27 67 65 6E 64 65 72 27 3A 20 27 ...|   US|        0|    60|2022-08-03 08:31:02.377|            0|\n",
      "|[66 65 6D 61 6C 65]|[7B 27 67 65 6E 64 65 72 27 3A 20 27 ...|   US|        0|    63|2022-08-03 08:31:02.377|            0|\n",
      "|[66 65 6D 61 6C 65]|[7B 27 67 65 6E 64 65 72 27 3A 20 27 ...|   US|        0|    64|2022-08-03 08:31:02.377|            0|\n",
      "|      [6D 61 6C 65]|[7B 27 67 65 6E 64 65 72 27 3A 20 27 ...|   US|        0|    54|2022-08-03 08:08:49.218|            0|\n",
      "|[66 65 6D 61 6C 65]|[7B 27 67 65 6E 64 65 72 27 3A 20 27 ...|   US|        0|    55|2022-08-03 08:08:49.218|            0|\n",
      "|[66 65 6D 61 6C 65]|[7B 27 67 65 6E 64 65 72 27 3A 20 27 ...|   US|        0|    58|2022-08-03 08:08:49.218|            0|\n",
      "|[66 65 6D 61 6C 65]|[7B 27 67 65 6E 64 65 72 27 3A 20 27 ...|   US|        0|    56|2022-08-03 08:08:49.218|            0|\n",
      "|[66 65 6D 61 6C 65]|[7B 27 67 65 6E 64 65 72 27 3A 20 27 ...|   US|        0|    57|2022-08-03 08:08:49.218|            0|\n",
      "+-------------------+----------------------------------------+-----+---------+------+-----------------------+-------------+\n",
      "\n"
     ]
    }
   ],
   "source": [
    "import pyspark.sql.functions as F\n",
    "\n",
    "spark.read.parquet(\"output/kafka_0x.parquet/*\").orderBy(F.desc(\"timestamp\")).show(20, 40)\n",
    "\n",
    "#key - partitioning key\n",
    "#value - the data, in binary format. This is our JSON payload. We'll need to cast it to STRING.\n",
    "#topic - the topic we are subscribing to\n",
    "#partition \n",
    "#offset - the offset value. This is per topic, partition, and consumer group\n",
    "#timestamp - the timestamp\n",
    "#timestampType - whether timestamp is created time or log append time (by default created time)"
   ]
  },
  {
   "cell_type": "code",
   "execution_count": 9,
   "id": "a89ff8be-ceba-4813-a649-ce7de9485afd",
   "metadata": {},
   "outputs": [],
   "source": [
    "spark.read.parquet(\"output/kafka_0x.parquet/*.parquet\").createOrReplaceTempView(\"vw_kafka_0\")"
   ]
  },
  {
   "cell_type": "code",
   "execution_count": 10,
   "id": "cd724b78-179b-4213-80bf-2cfc460bc5d6",
   "metadata": {},
   "outputs": [
    {
     "name": "stdout",
     "output_type": "stream",
     "text": [
      "+-------------------+--------------------+-----+---------+------+--------------------+-------------+\n",
      "|                key|               value|topic|partition|offset|           timestamp|timestampType|\n",
      "+-------------------+--------------------+-----+---------+------+--------------------+-------------+\n",
      "|[66 65 6D 61 6C 65]|[7B 27 67 65 6E 6...|   US|        0|    65|2022-08-03 08:31:...|            0|\n",
      "|[66 65 6D 61 6C 65]|[7B 27 67 65 6E 6...|   US|        0|    64|2022-08-03 08:31:...|            0|\n",
      "|[66 65 6D 61 6C 65]|[7B 27 67 65 6E 6...|   US|        0|    63|2022-08-03 08:31:...|            0|\n",
      "|[66 65 6D 61 6C 65]|[7B 27 67 65 6E 6...|   US|        0|    62|2022-08-03 08:31:...|            0|\n",
      "|      [6D 61 6C 65]|[7B 27 67 65 6E 6...|   US|        0|    61|2022-08-03 08:31:...|            0|\n",
      "|      [6D 61 6C 65]|[7B 27 67 65 6E 6...|   US|        0|    60|2022-08-03 08:31:...|            0|\n",
      "|      [6D 61 6C 65]|[7B 27 67 65 6E 6...|   US|        0|    59|2022-08-03 08:31:...|            0|\n",
      "|[66 65 6D 61 6C 65]|[7B 27 67 65 6E 6...|   US|        0|    58|2022-08-03 08:08:...|            0|\n",
      "|[66 65 6D 61 6C 65]|[7B 27 67 65 6E 6...|   US|        0|    57|2022-08-03 08:08:...|            0|\n",
      "|[66 65 6D 61 6C 65]|[7B 27 67 65 6E 6...|   US|        0|    56|2022-08-03 08:08:...|            0|\n",
      "|[66 65 6D 61 6C 65]|[7B 27 67 65 6E 6...|   US|        0|    55|2022-08-03 08:08:...|            0|\n",
      "|      [6D 61 6C 65]|[7B 27 67 65 6E 6...|   US|        0|    54|2022-08-03 08:08:...|            0|\n",
      "+-------------------+--------------------+-----+---------+------+--------------------+-------------+\n",
      "\n"
     ]
    }
   ],
   "source": [
    "spark.sql(\"SELECT * FROM vw_kafka_0 ORDER BY offset desc\").show()"
   ]
  },
  {
   "cell_type": "code",
   "execution_count": 11,
   "id": "e900fe09-d195-4734-9709-d42f426d30fc",
   "metadata": {},
   "outputs": [
    {
     "name": "stdout",
     "output_type": "stream",
     "text": [
      "+------+--------------------------------------------------+-----------------------+\n",
      "|   key|                                             value|                     ts|\n",
      "+------+--------------------------------------------------+-----------------------+\n",
      "|  male|{'gender': 'male', 'name': {'title': 'Mr', 'fir...|2022-08-03 08:31:02.377|\n",
      "|  male|{'gender': 'male', 'name': {'title': 'Mr', 'fir...|2022-08-03 08:31:02.377|\n",
      "|  male|{'gender': 'male', 'name': {'title': 'Mr', 'fir...|2022-08-03 08:31:02.377|\n",
      "|female|{'gender': 'female', 'name': {'title': 'Miss', ...|2022-08-03 08:31:02.377|\n",
      "|female|{'gender': 'female', 'name': {'title': 'Ms', 'f...|2022-08-03 08:31:02.377|\n",
      "|female|{'gender': 'female', 'name': {'title': 'Mrs', '...|2022-08-03 08:31:02.377|\n",
      "|female|{'gender': 'female', 'name': {'title': 'Mrs', '...|2022-08-03 08:31:02.377|\n",
      "|  male|{'gender': 'male', 'name': {'title': 'Mr', 'fir...|2022-08-03 08:08:49.218|\n",
      "|female|{'gender': 'female', 'name': {'title': 'Miss', ...|2022-08-03 08:08:49.218|\n",
      "|female|{'gender': 'female', 'name': {'title': 'Ms', 'f...|2022-08-03 08:08:49.218|\n",
      "|female|{'gender': 'female', 'name': {'title': 'Ms', 'f...|2022-08-03 08:08:49.218|\n",
      "|female|{'gender': 'female', 'name': {'title': 'Ms', 'f...|2022-08-03 08:08:49.218|\n",
      "+------+--------------------------------------------------+-----------------------+\n",
      "\n"
     ]
    }
   ],
   "source": [
    "spark.sql(\"SELECT CAST(key AS STRING) key, CAST(value AS STRING) value, timestamp AS ts FROM vw_kafka_0\").show(20, 50)"
   ]
  },
  {
   "cell_type": "code",
   "execution_count": 12,
   "id": "337e8ec5-ff57-479d-b73b-212f8f2b1b7c",
   "metadata": {},
   "outputs": [],
   "source": [
    "json_schema = \"\"\"\n",
    "STRUCT<gender: STRING,\n",
    "name: STRUCT<title: STRING,\n",
    "            first: STRING,\n",
    "            last: STRING>,\n",
    "location: STRUCT<street: STRUCT<number: INT,\n",
    "                                name: STRING>,\n",
    "                 city: STRING,\n",
    "                state: STRING,\n",
    "                country: STRING,\n",
    "                postcode: INT,\n",
    "                coordinates: STRUCT<latitude: STRING,\n",
    "                                    longitude: STRING>,\n",
    "                timezone: STRUCT<offset: STRING,\n",
    "                                description: STRING>\n",
    "                >,\n",
    "email: STRING,\n",
    "login: STRUCT< uuid: STRING,\n",
    "            username: STRING,\n",
    "            password: STRING,\n",
    "            salt: STRING,\n",
    "            md5: STRING,\n",
    "            sha1: STRING,\n",
    "            sha256: STRING>,\n",
    "dob: STRUCT<date: STRING,\n",
    "            age: INT>,\n",
    "registered: STRUCT<date: STRING,\n",
    "                    age: INT>,\n",
    "phone: STRING,\n",
    "cell: STRING,\n",
    "id: STRUCT<name: STRING,\n",
    "            value: STRING>,\n",
    "picture: STRUCT<large: STRING,\n",
    "                medium: STRING,\n",
    "                thumbnail: STRING>,\n",
    "nat: STRING,\n",
    "timestamp: STRING>\n",
    "\"\"\""
   ]
  },
  {
   "cell_type": "code",
   "execution_count": 19,
   "id": "28b52220-0978-443a-86d3-0a50989702cf",
   "metadata": {},
   "outputs": [],
   "source": [
    "json_schema = \"\"\"\n",
    "STRUCT<gender: STRING,\n",
    "email: STRING,\n",
    "phone: STRING,\n",
    "cell: STRING,\n",
    "nat: STRING,\n",
    "summerschool: INT,\n",
    "timestamp: STRING>\n",
    "\"\"\""
   ]
  },
  {
   "cell_type": "code",
   "execution_count": 20,
   "id": "a00d259d-1261-44c4-89f2-210347d5f4a4",
   "metadata": {},
   "outputs": [
    {
     "name": "stdout",
     "output_type": "stream",
     "text": [
      "+------+--------------------+--------------+--------------+---+------------+---------+\n",
      "|gender|               email|         phone|          cell|nat|summerschool|timestamp|\n",
      "+------+--------------------+--------------+--------------+---+------------+---------+\n",
      "|  male|milton.johnston@e...|(774) 935-9397|(877) 594-2889| US|        null|     null|\n",
      "|  male|roy.griffin@examp...|(489) 383-3270|(735) 862-4436| US|        null|     null|\n",
      "|  male|guy.watkins@examp...|(237) 900-8933|(597) 376-5534| US|        null|     null|\n",
      "|female|tamara.soto@examp...|(900) 850-6151|(230) 928-3213| US|        null|     null|\n",
      "|female|addison.chapman@e...|(200) 497-2756|(552) 511-2887| US|        null|     null|\n",
      "|female|sandra.morrison@e...|(206) 381-3465|(934) 992-5383| US|        null|     null|\n",
      "|female|celina.caldwell@e...|(933) 825-3027|(630) 592-2136| US|        null|     null|\n",
      "|  male|tristan.green@exa...|(609) 790-7729|(990) 622-7230| US|        null|     null|\n",
      "|female|victoria.west@exa...|(966) 389-5375|(673) 819-6429| US|        null|     null|\n",
      "|female|roberta.chapman@e...|(805) 747-6918|(266) 204-9895| US|        null|     null|\n",
      "|female|lisa.carter@examp...|(308) 516-3066|(347) 845-8235| US|        null|     null|\n",
      "|female|lena.smith@exampl...|(589) 501-0342|(362) 574-4232| US|        null|     null|\n",
      "+------+--------------------+--------------+--------------+---+------------+---------+\n",
      "\n"
     ]
    }
   ],
   "source": [
    "spark.sql(f\"\"\"\n",
    "SELECT json.* FROM (\n",
    "SELECT FROM_JSON(CAST(value AS STRING),'{json_schema}') AS json,\n",
    "timestamp as ts\n",
    "FROM vw_kafka_0\n",
    "WHERE offset > 10\n",
    ")\n",
    "\"\"\").show()"
   ]
  }
 ],
 "metadata": {
  "kernelspec": {
   "display_name": "Python 3 (ipykernel)",
   "language": "python",
   "name": "python3"
  },
  "language_info": {
   "codemirror_mode": {
    "name": "ipython",
    "version": 3
   },
   "file_extension": ".py",
   "mimetype": "text/x-python",
   "name": "python",
   "nbconvert_exporter": "python",
   "pygments_lexer": "ipython3",
   "version": "3.10.5"
  },
  "vscode": {
   "interpreter": {
    "hash": "86a545e9c7c8a04a9f5ab582097b4968329114428a3fde0cf520c5aeef29910b"
   }
  }
 },
 "nbformat": 4,
 "nbformat_minor": 5
}
