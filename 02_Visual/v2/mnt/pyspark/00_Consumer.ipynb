{
 "cells": [
  {
   "cell_type": "code",
   "execution_count": null,
   "id": "22a5ef5b-807d-43fa-8668-235c8c626544",
   "metadata": {},
   "outputs": [],
   "source": [
    "from pyspark.sql import SparkSession\n",
    "\n",
    "spark = (SparkSession.builder\n",
    "         .config(\"spark.jars.packages\", \"org.apache.spark:spark-sql-kafka-0-10_2.12:3.3.0\")\n",
    "         .getOrCreate()\n",
    "        )"
   ]
  },
  {
   "cell_type": "code",
   "execution_count": null,
   "id": "c084b5ce-73d2-4916-933a-3b568c20cc0d",
   "metadata": {},
   "outputs": [],
   "source": [
    "kafka_df = (spark.readStream\n",
    "            .format(\"kafka\")\n",
    "            .option(\"kafka.bootstrap.servers\", \"broker-1:9092\")\n",
    "            .option(\"subscribe\",\"US\")\n",
    "            .option(\"startingOffsets\", \"earliest\")\n",
    "            .load()\n",
    "           )"
   ]
  },
  {
   "cell_type": "code",
   "execution_count": null,
   "id": "b9f8cda2-633a-4cdd-ae8d-f5428489059a",
   "metadata": {},
   "outputs": [],
   "source": [
    "(kafka_df\n",
    "     .writeStream\n",
    "     .format(\"parquet\")\n",
    "     .option(\"checkpointLocation\", \"checkpoints/kafka_us\")\n",
    "     .option(\"path\", \"output/kafka_us.parquet\")\n",
    "     .start()\n",
    "     .awaitTermination()\n",
    ")\n"
   ]
  }
 ],
 "metadata": {
  "kernelspec": {
   "display_name": "Python 3 (ipykernel)",
   "language": "python",
   "name": "python3"
  },
  "language_info": {
   "codemirror_mode": {
    "name": "ipython",
    "version": 3
   },
   "file_extension": ".py",
   "mimetype": "text/x-python",
   "name": "python",
   "nbconvert_exporter": "python",
   "pygments_lexer": "ipython3",
   "version": "3.9.13"
  },
  "vscode": {
   "interpreter": {
    "hash": "86a545e9c7c8a04a9f5ab582097b4968329114428a3fde0cf520c5aeef29910b"
   }
  }
 },
 "nbformat": 4,
 "nbformat_minor": 5
}
