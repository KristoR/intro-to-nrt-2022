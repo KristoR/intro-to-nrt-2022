{
 "cells": [
  {
   "cell_type": "code",
   "execution_count": 1,
   "metadata": {},
   "outputs": [],
   "source": [
    "# task 1:\n",
    "\n",
    "# https://randomuser.me/documentation\n",
    "\n",
    "# Topic per nationality\n",
    "# Partition by gender\n",
    "\n",
    "import confluent_kafka\n",
    "import requests\n",
    "from confluent_kafka import Producer\n",
    "from confluent_kafka.admin import AdminClient, NewTopic\n",
    "import time\n",
    "import datetime\n",
    "\n",
    "def acked(err, msg):\n",
    "    if err is not None:\n",
    "        print(\"Failed to deliver message: %s: %s\" % (str(msg), str(err)))\n",
    "    else:\n",
    "        print(\"Message produced: %s\" % (str(msg)))\n",
    "\n",
    "def fetch()-> list:\n",
    "    url = \"https://randomuser.me/api\"\n",
    "\n",
    "    params = dict()\n",
    "    params[\"results\"] = \"15\"\n",
    "    params[\"nat\"] = \"US,FR,DE,NZ\"\n",
    "\n",
    "    for i in range(10):\n",
    "        r = requests.get(url, params=params)\n",
    "        if r.status_code != 200:\n",
    "            if i==9:\n",
    "                print(\"API failed after 10 tries\")\n",
    "                return None\n",
    "            time.sleep(1)\n",
    "        else:\n",
    "            break\n",
    "\n",
    "    return r.json()[\"results\"]\n",
    "\n",
    "def produce_events(events:list):\n",
    "    conf = {'bootstrap.servers': \"localhost:19092,localhost:29092\"}\n",
    "    producer = Producer(conf)\n",
    "\n",
    "    for i in events:\n",
    "        topic = i[\"nat\"] # we want to have each nationality in its own topic\n",
    "        key = i[\"gender\"] # we want to partition by gender\n",
    "        i[\"timestamp\"] = datetime.datetime.now()\n",
    "        producer.produce(topic=topic, key=key, value=str(i), callback=acked)\n",
    "\n",
    "    producer.poll(1)\n",
    "    producer.flush() \n",
    "\n",
    "\n",
    "\n"
   ]
  },
  {
   "cell_type": "code",
   "execution_count": 2,
   "metadata": {},
   "outputs": [],
   "source": [
    "\n",
    "users = fetch()  "
   ]
  },
  {
   "cell_type": "code",
   "execution_count": 3,
   "metadata": {},
   "outputs": [
    {
     "name": "stdout",
     "output_type": "stream",
     "text": [
      "Message produced: <cimpl.Message object at 0x0000027EDC433840>\n",
      "Message produced: <cimpl.Message object at 0x0000027EDC433840>\n",
      "Message produced: <cimpl.Message object at 0x0000027EDC433840>\n",
      "Message produced: <cimpl.Message object at 0x0000027EDC433840>\n",
      "Message produced: <cimpl.Message object at 0x0000027EDC433840>\n",
      "Message produced: <cimpl.Message object at 0x0000027EDC433B40>\n",
      "Message produced: <cimpl.Message object at 0x0000027EDC433B40>\n",
      "Message produced: <cimpl.Message object at 0x0000027EDC433B40>\n",
      "Message produced: <cimpl.Message object at 0x0000027EDC433B40>\n",
      "Message produced: <cimpl.Message object at 0x0000027EDC433840>\n",
      "Message produced: <cimpl.Message object at 0x0000027EDC433840>\n",
      "Message produced: <cimpl.Message object at 0x0000027EDC433840>\n",
      "Message produced: <cimpl.Message object at 0x0000027EDC433840>\n",
      "Message produced: <cimpl.Message object at 0x0000027EDC433840>\n",
      "Message produced: <cimpl.Message object at 0x0000027EDC433840>\n"
     ]
    }
   ],
   "source": [
    "produce_events(users)"
   ]
  }
 ],
 "metadata": {
  "kernelspec": {
   "display_name": "Python 3.9.13 64-bit (windows store)",
   "language": "python",
   "name": "python3"
  },
  "language_info": {
   "codemirror_mode": {
    "name": "ipython",
    "version": 3
   },
   "file_extension": ".py",
   "mimetype": "text/x-python",
   "name": "python",
   "nbconvert_exporter": "python",
   "pygments_lexer": "ipython3",
   "version": "3.9.13"
  },
  "orig_nbformat": 4,
  "vscode": {
   "interpreter": {
    "hash": "86a545e9c7c8a04a9f5ab582097b4968329114428a3fde0cf520c5aeef29910b"
   }
  }
 },
 "nbformat": 4,
 "nbformat_minor": 2
}
